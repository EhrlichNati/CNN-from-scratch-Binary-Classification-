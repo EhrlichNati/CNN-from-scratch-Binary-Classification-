{
 "cells": [
  {
   "cell_type": "code",
   "execution_count": 3,
   "id": "initial_id",
   "metadata": {
    "collapsed": true,
    "ExecuteTime": {
     "end_time": "2023-12-04T14:15:38.266118Z",
     "start_time": "2023-12-04T14:15:38.252930Z"
    }
   },
   "outputs": [
    {
     "name": "stdout",
     "output_type": "stream",
     "text": [
      "(12288, 50)\n",
      "(1, 50)\n",
      "(12288, 209)\n",
      "(1, 209)\n"
     ]
    }
   ],
   "source": [
    "import numpy as np\n",
    "from utils import *\n",
    "from model import *\n",
    "from model_functions import *\n",
    "import h5py\n",
    "\n",
    "train_set_x_orig, train_set_y_orig, test_set_x_orig, test_set_y_orig, classes = cat_data_loader()\n",
    "x_train, y_train, x_test, y_test, classes = flatten_data(train_set_x_orig, train_set_y_orig, test_set_x_orig, test_set_y_orig, classes)\n"
   ]
  },
  {
   "cell_type": "code",
   "execution_count": 4,
   "outputs": [
    {
     "name": "stdout",
     "output_type": "stream",
     "text": [
      "0\n",
      "pred_train 0.4354066985645933\n",
      "pred_test 0.66\n",
      "100\n",
      "pred_train 0.6842105263157895\n",
      "pred_test 0.34\n",
      "200\n",
      "pred_train 0.7368421052631579\n",
      "pred_test 0.34\n",
      "300\n",
      "pred_train 0.7655502392344498\n",
      "pred_test 0.34\n",
      "400\n",
      "pred_train 0.7894736842105263\n",
      "pred_test 0.34\n",
      "500\n",
      "pred_train 0.7894736842105263\n",
      "pred_test 0.34\n",
      "600\n",
      "pred_train 0.7990430622009569\n",
      "pred_test 0.34\n",
      "700\n",
      "pred_train 0.7990430622009569\n",
      "pred_test 0.34\n",
      "800\n",
      "pred_train 0.8277511961722488\n",
      "pred_test 0.34\n",
      "900\n",
      "pred_train 0.7511961722488038\n",
      "pred_test 0.42\n",
      "1000\n",
      "pred_train 0.7368421052631579\n",
      "pred_test 0.44\n",
      "1100\n",
      "pred_train 0.7703349282296651\n",
      "pred_test 0.36\n",
      "1200\n",
      "pred_train 0.8612440191387559\n",
      "pred_test 0.34\n",
      "1300\n",
      "pred_train 0.8133971291866028\n",
      "pred_test 0.36\n",
      "1400\n",
      "pred_train 0.8564593301435406\n",
      "pred_test 0.34\n",
      "1500\n",
      "pred_train 0.8038277511961722\n",
      "pred_test 0.34\n",
      "1600\n",
      "pred_train 0.8038277511961722\n",
      "pred_test 0.34\n",
      "1700\n",
      "pred_train 0.7703349282296651\n",
      "pred_test 0.38\n",
      "1800\n",
      "pred_train 0.8516746411483254\n",
      "pred_test 0.34\n",
      "1900\n",
      "pred_train 0.84688995215311\n",
      "pred_test 0.34\n"
     ]
    }
   ],
   "source": [
    "layers = [x_train.shape[0], 20, 7, 1]\n",
    "\n",
    "after_train_parameters = train_model(x_train,y_train,x_test,y_test, layers=layers ,learning_rate=0.0075, train_iterations=2000, cost_function=cross_entropy_cost)\n",
    "\n"
   ],
   "metadata": {
    "collapsed": false,
    "ExecuteTime": {
     "end_time": "2023-12-04T14:16:24.287535Z",
     "start_time": "2023-12-04T14:15:38.268349Z"
    }
   },
   "id": "f63439c9d78f1342"
  },
  {
   "cell_type": "code",
   "execution_count": 4,
   "outputs": [],
   "source": [
    "\n"
   ],
   "metadata": {
    "collapsed": false,
    "ExecuteTime": {
     "end_time": "2023-12-04T14:16:24.294488Z",
     "start_time": "2023-12-04T14:16:24.287746Z"
    }
   },
   "id": "9b955a94c419cdb8"
  },
  {
   "cell_type": "code",
   "execution_count": 4,
   "outputs": [],
   "source": [],
   "metadata": {
    "collapsed": false,
    "ExecuteTime": {
     "end_time": "2023-12-04T14:16:24.300108Z",
     "start_time": "2023-12-04T14:16:24.291867Z"
    }
   },
   "id": "6ce6fbc86bac2c7f"
  }
 ],
 "metadata": {
  "kernelspec": {
   "display_name": "Python 3",
   "language": "python",
   "name": "python3"
  },
  "language_info": {
   "codemirror_mode": {
    "name": "ipython",
    "version": 2
   },
   "file_extension": ".py",
   "mimetype": "text/x-python",
   "name": "python",
   "nbconvert_exporter": "python",
   "pygments_lexer": "ipython2",
   "version": "2.7.6"
  }
 },
 "nbformat": 4,
 "nbformat_minor": 5
}
