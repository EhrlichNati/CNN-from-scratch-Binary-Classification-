{
 "cells": [
  {
   "cell_type": "code",
   "execution_count": 3,
   "id": "initial_id",
   "metadata": {
    "collapsed": true,
    "ExecuteTime": {
     "end_time": "2023-12-07T21:13:31.148117Z",
     "start_time": "2023-12-07T21:13:31.128213Z"
    }
   },
   "outputs": [],
   "source": [
    "import numpy as np\n",
    "from utils import *\n",
    "from model import *\n",
    "from model_functions import *\n",
    "import h5py\n",
    "\n",
    "train_set_x_orig, train_set_y_orig, test_set_x_orig, test_set_y_orig, classes = cat_data_loader()\n",
    "x_train, y_train, x_test, y_test, classes = flatten_data(train_set_x_orig, train_set_y_orig, test_set_x_orig, test_set_y_orig, classes)"
   ]
  },
  {
   "cell_type": "code",
   "execution_count": 4,
   "outputs": [
    {
     "name": "stdout",
     "output_type": "stream",
     "text": [
      "0\n",
      "pred_train 0.354066985645933\n",
      "pred_test 0.66\n",
      "100\n",
      "pred_train 0.69377990430622\n",
      "pred_test 0.54\n",
      "200\n",
      "pred_train 0.6985645933014354\n",
      "pred_test 0.36\n",
      "300\n",
      "pred_train 0.7033492822966507\n",
      "pred_test 0.34\n",
      "400\n",
      "pred_train 0.7464114832535885\n",
      "pred_test 0.34\n",
      "500\n",
      "pred_train 0.7464114832535885\n",
      "pred_test 0.34\n",
      "600\n",
      "pred_train 0.7464114832535885\n",
      "pred_test 0.34\n",
      "700\n",
      "pred_train 0.7559808612440191\n",
      "pred_test 0.34\n",
      "800\n",
      "pred_train 0.7607655502392344\n",
      "pred_test 0.34\n",
      "900\n",
      "pred_train 0.7703349282296651\n",
      "pred_test 0.34\n",
      "1000\n",
      "pred_train 0.7942583732057416\n",
      "pred_test 0.34\n",
      "1100\n",
      "pred_train 0.8038277511961722\n",
      "pred_test 0.34\n",
      "1200\n",
      "pred_train 0.8133971291866028\n",
      "pred_test 0.34\n",
      "1300\n",
      "pred_train 0.8229665071770335\n",
      "pred_test 0.34\n",
      "1400\n",
      "pred_train 0.84688995215311\n",
      "pred_test 0.34\n",
      "1500\n",
      "pred_train 0.8421052631578947\n",
      "pred_test 0.34\n",
      "1600\n",
      "pred_train 0.8564593301435406\n",
      "pred_test 0.34\n",
      "1700\n",
      "pred_train 0.8564593301435406\n",
      "pred_test 0.36\n",
      "1800\n",
      "pred_train 0.8851674641148325\n",
      "pred_test 0.34\n",
      "1900\n",
      "pred_train 0.8899521531100478\n",
      "pred_test 0.34\n",
      "2000\n",
      "pred_train 0.9043062200956937\n",
      "pred_test 0.34\n",
      "2100\n",
      "pred_train 0.9043062200956937\n",
      "pred_test 0.34\n",
      "2200\n",
      "pred_train 0.9330143540669856\n",
      "pred_test 0.34\n",
      "2300\n",
      "pred_train 0.9330143540669856\n",
      "pred_test 0.34\n",
      "2400\n",
      "pred_train 0.923444976076555\n",
      "pred_test 0.34\n",
      "2500\n",
      "pred_train 0.9521531100478469\n",
      "pred_test 0.34\n",
      "2600\n",
      "pred_train 0.923444976076555\n",
      "pred_test 0.34\n",
      "2700\n",
      "pred_train 0.9330143540669856\n",
      "pred_test 0.34\n",
      "2800\n",
      "pred_train 0.9665071770334928\n",
      "pred_test 0.34\n",
      "2900\n",
      "pred_train 0.9521531100478469\n",
      "pred_test 0.34\n"
     ]
    }
   ],
   "source": [
    "layers = [x_train.shape[0], 20, 7, 1]\n",
    "\n",
    "after_train_parameters = train_model(x_train,y_train,x_test,y_test, layers=layers ,learning_rate=0.0075, train_iterations=3000, cost_function=cross_entropy_cost)\n",
    "\n"
   ],
   "metadata": {
    "collapsed": false,
    "ExecuteTime": {
     "end_time": "2023-12-07T21:14:47.605916Z",
     "start_time": "2023-12-07T21:13:31.149834Z"
    }
   },
   "id": "f63439c9d78f1342"
  },
  {
   "cell_type": "code",
   "execution_count": 4,
   "outputs": [],
   "source": [
    "\n"
   ],
   "metadata": {
    "collapsed": false,
    "ExecuteTime": {
     "end_time": "2023-12-07T21:14:47.609241Z",
     "start_time": "2023-12-07T21:14:47.601436Z"
    }
   },
   "id": "9b955a94c419cdb8"
  },
  {
   "cell_type": "code",
   "execution_count": 4,
   "outputs": [],
   "source": [],
   "metadata": {
    "collapsed": false,
    "ExecuteTime": {
     "end_time": "2023-12-07T21:14:47.609395Z",
     "start_time": "2023-12-07T21:14:47.605285Z"
    }
   },
   "id": "6ce6fbc86bac2c7f"
  }
 ],
 "metadata": {
  "kernelspec": {
   "display_name": "Python 3",
   "language": "python",
   "name": "python3"
  },
  "language_info": {
   "codemirror_mode": {
    "name": "ipython",
    "version": 2
   },
   "file_extension": ".py",
   "mimetype": "text/x-python",
   "name": "python",
   "nbconvert_exporter": "python",
   "pygments_lexer": "ipython2",
   "version": "2.7.6"
  }
 },
 "nbformat": 4,
 "nbformat_minor": 5
}
